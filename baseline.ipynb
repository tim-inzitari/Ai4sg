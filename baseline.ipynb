{
 "cells": [
  {
   "cell_type": "code",
   "execution_count": 1,
   "metadata": {},
   "outputs": [],
   "source": [
    "import tensorflow as tf\n",
    "import numpy as np\n",
    "from tensorflow import keras\n",
    "import os\n",
    "import cv2\n",
    "from tensorflow.keras.preprocessing.image import ImageDataGenerator\n",
    "from tensorflow.keras.preprocessing import image\n",
    "import matplotlib.pyplot as plt"
   ]
  },
  {
   "cell_type": "code",
   "execution_count": 2,
   "metadata": {},
   "outputs": [
    {
     "name": "stdout",
     "output_type": "stream",
     "text": [
      "Found 2053 images belonging to 2 classes.\n",
      "Found 130 images belonging to 2 classes.\n",
      "Found 383 images belonging to 2 classes.\n"
     ]
    }
   ],
   "source": [
    "train = ImageDataGenerator(rescale=1/255)\n",
    "test= ImageDataGenerator(rescale=1/255)\n",
    "val = ImageDataGenerator(rescale=1/255)\n",
    "batchsize = 64\n",
    "train_dataset = train.flow_from_directory(\"Cleaned/train/\", target_size=(200, 200), \n",
    "                                          batch_size = batchsize, class_mode= 'binary')\n",
    "test_dataset = train.flow_from_directory(\"Cleaned/test/\", target_size=(200, 200), \n",
    "                                          batch_size = batchsize, class_mode= 'binary')\n",
    "val_dataset = train.flow_from_directory(\"Cleaned/val/\", target_size=(200, 200), \n",
    "                                          batch_size = batchsize, class_mode= 'binary')"
   ]
  },
  {
   "cell_type": "code",
   "execution_count": 3,
   "metadata": {},
   "outputs": [
    {
     "data": {
      "text/plain": [
       "{'non_recyclable': 0, 'recyclable': 1}"
      ]
     },
     "execution_count": 3,
     "metadata": {},
     "output_type": "execute_result"
    }
   ],
   "source": [
    "train_dataset.class_indices\n",
    "test_dataset.class_indices\n",
    "val_dataset.class_indices"
   ]
  },
  {
   "cell_type": "code",
   "execution_count": 4,
   "metadata": {},
   "outputs": [],
   "source": [
    "model = keras.Sequential()\n",
    "\n",
    "#conv 1\n",
    "model.add(keras.layers.Conv2D(256, (3,3), activation='relu', input_shape=(200, 200, 3)))\n",
    "model.add(keras.layers.MaxPool2D(2,2))\n",
    "\n",
    "\n",
    "# Convolutional layer and maxpool layer 2\n",
    "model.add(keras.layers.Conv2D(64,(3,3),activation='relu'))\n",
    "model.add(keras.layers.MaxPool2D(2,2))\n",
    "\n",
    "# Convolutional layer and maxpool layer 3\n",
    "model.add(keras.layers.Conv2D(128,(3,3),activation='relu'))\n",
    "model.add(keras.layers.MaxPool2D(2,2))\n",
    "\n",
    "# Convolutional layer and maxpool layer 4\n",
    "model.add(keras.layers.Conv2D(128,(3,3),activation='relu'))\n",
    "model.add(keras.layers.MaxPool2D(2,2))\n",
    "\n",
    "\n",
    "\n",
    "\n",
    "#flatten layer\n",
    "model.add(keras.layers.Flatten())\n",
    "\n",
    "#Hidden with 256 \n",
    "model.add(keras.layers.Dense(256, activation='relu'))\n",
    "\n",
    "#output\n",
    "model.add(keras.layers.Dense(1, activation='sigmoid'))\n"
   ]
  },
  {
   "cell_type": "code",
   "execution_count": 5,
   "metadata": {},
   "outputs": [],
   "source": [
    "model.compile(optimizer='adam', loss='binary_crossentropy', metrics=['accuracy'])\n"
   ]
  },
  {
   "cell_type": "code",
   "execution_count": 6,
   "metadata": {},
   "outputs": [
    {
     "name": "stdout",
     "output_type": "stream",
     "text": [
      "Epoch 1/10\n",
      "33/33 [==============================] - 7s 149ms/step - loss: 0.6950 - accuracy: 0.6264 - val_loss: 0.6647 - val_accuracy: 0.6423\n",
      "Epoch 2/10\n",
      "33/33 [==============================] - 4s 110ms/step - loss: 0.6499 - accuracy: 0.6298 - val_loss: 0.6589 - val_accuracy: 0.6423\n",
      "Epoch 3/10\n",
      "33/33 [==============================] - 4s 103ms/step - loss: 0.6491 - accuracy: 0.6396 - val_loss: 0.6489 - val_accuracy: 0.6423\n",
      "Epoch 4/10\n",
      "33/33 [==============================] - 3s 108ms/step - loss: 0.6387 - accuracy: 0.6391 - val_loss: 0.6455 - val_accuracy: 0.6423\n",
      "Epoch 5/10\n",
      "33/33 [==============================] - 4s 106ms/step - loss: 0.6363 - accuracy: 0.6396 - val_loss: 0.6553 - val_accuracy: 0.6423\n",
      "Epoch 6/10\n",
      "33/33 [==============================] - 4s 107ms/step - loss: 0.6257 - accuracy: 0.6396 - val_loss: 0.6343 - val_accuracy: 0.6423\n",
      "Epoch 7/10\n",
      "33/33 [==============================] - 3s 104ms/step - loss: 0.6255 - accuracy: 0.6391 - val_loss: 0.6347 - val_accuracy: 0.6423\n",
      "Epoch 8/10\n",
      "33/33 [==============================] - 4s 105ms/step - loss: 0.6118 - accuracy: 0.6473 - val_loss: 0.6458 - val_accuracy: 0.6658\n",
      "Epoch 9/10\n",
      "33/33 [==============================] - 4s 106ms/step - loss: 0.5966 - accuracy: 0.6678 - val_loss: 0.6457 - val_accuracy: 0.6606\n",
      "Epoch 10/10\n",
      "33/33 [==============================] - 4s 105ms/step - loss: 0.5889 - accuracy: 0.6800 - val_loss: 0.6360 - val_accuracy: 0.6580\n"
     ]
    },
    {
     "data": {
      "text/plain": [
       "<keras.callbacks.History at 0x7f858c3a4ac0>"
      ]
     },
     "execution_count": 6,
     "metadata": {},
     "output_type": "execute_result"
    }
   ],
   "source": [
    "model.fit(train_dataset,\n",
    "                   epochs = 10,\n",
    "                   validation_data = val_dataset)"
   ]
  },
  {
   "cell_type": "code",
   "execution_count": 7,
   "metadata": {},
   "outputs": [],
   "source": [
    "\n",
    "def predictImage(filename):\n",
    "    img1 = image.load_img(filename,target_size=(150,150))\n",
    "    \n",
    "    plt.imshow(img1)\n",
    " \n",
    "    Y = image.img_to_array(img1)\n",
    "    \n",
    "    X = np.expand_dims(Y,axis=0)\n",
    "\n",
    "    val = model.predict(X)\n",
    "    print(val)\n",
    "    if val == 1:\n",
    "        \n",
    "        plt.xlabel(\"RECYCLABLE\",fontsize=30)\n",
    "        \n",
    "    \n",
    "    elif val == 0:\n",
    "        \n",
    "        plt.xlabel(\"NON_RECYCLABLE\",fontsize=30)\n",
    "\n",
    "    "
   ]
  },
  {
   "cell_type": "code",
   "execution_count": 8,
   "metadata": {},
   "outputs": [
    {
     "data": {
      "text/plain": [
       "array([[0.7405556 ],\n",
       "       [0.723807  ],\n",
       "       [0.86931247],\n",
       "       [0.50378674],\n",
       "       [0.5118605 ],\n",
       "       [0.6215938 ],\n",
       "       [0.92428017],\n",
       "       [0.5393545 ],\n",
       "       [0.5592405 ],\n",
       "       [0.5241208 ],\n",
       "       [0.6956689 ],\n",
       "       [0.7992387 ],\n",
       "       [0.7817252 ],\n",
       "       [0.5393545 ],\n",
       "       [0.90662926],\n",
       "       [0.7341049 ],\n",
       "       [0.5557411 ],\n",
       "       [0.57108206],\n",
       "       [0.64924574],\n",
       "       [0.50096136],\n",
       "       [0.6482243 ],\n",
       "       [0.70924103],\n",
       "       [0.42058727],\n",
       "       [0.6575212 ],\n",
       "       [0.5393603 ],\n",
       "       [0.9088211 ],\n",
       "       [0.38828856],\n",
       "       [0.57129204],\n",
       "       [0.97367543],\n",
       "       [0.5708951 ],\n",
       "       [0.5696593 ],\n",
       "       [0.62062454],\n",
       "       [0.654375  ],\n",
       "       [0.8855089 ],\n",
       "       [0.5399961 ],\n",
       "       [0.9417388 ],\n",
       "       [0.87563044],\n",
       "       [0.6588713 ],\n",
       "       [0.5393545 ],\n",
       "       [0.81725657],\n",
       "       [0.50872713],\n",
       "       [0.5393545 ],\n",
       "       [0.5059728 ],\n",
       "       [0.66531754],\n",
       "       [0.50668734],\n",
       "       [0.55823183],\n",
       "       [0.5393545 ],\n",
       "       [0.7907078 ],\n",
       "       [0.6742591 ],\n",
       "       [0.59613925],\n",
       "       [0.6454524 ],\n",
       "       [0.87642956],\n",
       "       [0.5454048 ],\n",
       "       [0.5792588 ],\n",
       "       [0.5464621 ],\n",
       "       [0.5393545 ],\n",
       "       [0.5393545 ],\n",
       "       [0.5377127 ],\n",
       "       [0.57292306],\n",
       "       [0.5393545 ],\n",
       "       [0.5393545 ],\n",
       "       [0.64268327],\n",
       "       [0.8966455 ],\n",
       "       [0.7925024 ],\n",
       "       [0.5393545 ],\n",
       "       [0.55038834],\n",
       "       [0.8147052 ],\n",
       "       [0.5393545 ],\n",
       "       [0.66634566],\n",
       "       [0.5393545 ],\n",
       "       [0.6205024 ],\n",
       "       [0.55564564],\n",
       "       [0.53425205],\n",
       "       [0.80935603],\n",
       "       [0.54242843],\n",
       "       [0.7026813 ],\n",
       "       [0.5393545 ],\n",
       "       [0.7677036 ],\n",
       "       [0.42561492],\n",
       "       [0.5393545 ],\n",
       "       [0.40081602],\n",
       "       [0.5393545 ],\n",
       "       [0.4424293 ],\n",
       "       [0.6251328 ],\n",
       "       [0.86288714],\n",
       "       [0.6218034 ],\n",
       "       [0.5507643 ],\n",
       "       [0.54586816],\n",
       "       [0.69265246],\n",
       "       [0.5393545 ],\n",
       "       [0.5863176 ],\n",
       "       [0.5393545 ],\n",
       "       [0.6178907 ],\n",
       "       [0.53797346],\n",
       "       [0.51333153],\n",
       "       [0.9069072 ],\n",
       "       [0.51044196],\n",
       "       [0.49253392],\n",
       "       [0.5377802 ],\n",
       "       [0.5693385 ],\n",
       "       [0.453668  ],\n",
       "       [0.8446717 ],\n",
       "       [0.5389439 ],\n",
       "       [0.911685  ],\n",
       "       [0.93403786],\n",
       "       [0.53376514],\n",
       "       [0.5693308 ],\n",
       "       [0.7789927 ],\n",
       "       [0.83521736],\n",
       "       [0.9036019 ],\n",
       "       [0.9128858 ],\n",
       "       [0.52267754],\n",
       "       [0.68340445],\n",
       "       [0.42462018],\n",
       "       [0.77269655],\n",
       "       [0.5393545 ],\n",
       "       [0.5149537 ],\n",
       "       [0.5942326 ],\n",
       "       [0.5400596 ],\n",
       "       [0.5275117 ],\n",
       "       [0.74544704],\n",
       "       [0.7755094 ],\n",
       "       [0.53935546],\n",
       "       [0.5334029 ],\n",
       "       [0.5393545 ],\n",
       "       [0.5393545 ],\n",
       "       [0.5393545 ],\n",
       "       [0.5393545 ],\n",
       "       [0.3945082 ],\n",
       "       [0.5057379 ]], dtype=float32)"
      ]
     },
     "execution_count": 8,
     "metadata": {},
     "output_type": "execute_result"
    }
   ],
   "source": [
    "model.predict(test_dataset)"
   ]
  },
  {
   "cell_type": "code",
   "execution_count": 9,
   "metadata": {},
   "outputs": [],
   "source": [
    "y = model.predict(test_dataset)"
   ]
  },
  {
   "cell_type": "code",
   "execution_count": 10,
   "metadata": {},
   "outputs": [
    {
     "name": "stdout",
     "output_type": "stream",
     "text": [
      "[0 0 0 0 0 0 0 0 0 0 0 0 0 0 0 0 0 0 0 0 0 0 0 0 0 0 0 0 0 0 0 0 0 0 0 0 0\n",
      " 0 0 0 0 0 0 0 0 0 0 1 1 1 1 1 1 1 1 1 1 1 1 1 1 1 1 1 1 1 1 1 1 1 1 1 1 1\n",
      " 1 1 1 1 1 1 1 1 1 1 1 1 1 1 1 1 1 1 1 1 1 1 1 1 1 1 1 1 1 1 1 1 1 1 1 1 1\n",
      " 1 1 1 1 1 1 1 1 1 1 1 1 1 1 1 1 1 1 1]\n"
     ]
    }
   ],
   "source": [
    "print(test_dataset.classes)\n",
    "p = test_dataset.classes"
   ]
  },
  {
   "cell_type": "code",
   "execution_count": 11,
   "metadata": {},
   "outputs": [],
   "source": [
    "for i in range(len(y)):\n",
    "    if y[i] < 0.5:\n",
    "        y[i] = 0\n",
    "    else:\n",
    "        y[i] = 1"
   ]
  },
  {
   "cell_type": "code",
   "execution_count": null,
   "metadata": {},
   "outputs": [],
   "source": []
  },
  {
   "cell_type": "code",
   "execution_count": 12,
   "metadata": {},
   "outputs": [],
   "source": [
    "total = 0\n",
    "count = 0\n",
    "for i in range(len(y)):\n",
    "    if int(y[i]) == p[i]:\n",
    "        count+=1\n",
    "    total+=1"
   ]
  },
  {
   "cell_type": "code",
   "execution_count": 13,
   "metadata": {},
   "outputs": [
    {
     "name": "stdout",
     "output_type": "stream",
     "text": [
      "80\n",
      "130\n",
      "0.6153846153846154\n"
     ]
    }
   ],
   "source": [
    "print(count)\n",
    "print(total)\n",
    "print(float(count)/float(total))"
   ]
  },
  {
   "cell_type": "code",
   "execution_count": null,
   "metadata": {
    "collapsed": true
   },
   "outputs": [],
   "source": []
  }
 ],
 "metadata": {
  "kernelspec": {
   "display_name": "Python 3",
   "language": "python",
   "name": "python3"
  },
  "language_info": {
   "codemirror_mode": {
    "name": "ipython",
    "version": 3
   },
   "file_extension": ".py",
   "mimetype": "text/x-python",
   "name": "python",
   "nbconvert_exporter": "python",
   "pygments_lexer": "ipython3",
   "version": "3.8.10"
  }
 },
 "nbformat": 4,
 "nbformat_minor": 4
}
